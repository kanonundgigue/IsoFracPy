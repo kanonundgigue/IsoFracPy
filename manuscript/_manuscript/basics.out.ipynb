{
 "cells": [
  {
   "cell_type": "markdown",
   "metadata": {},
   "source": [
    "# Description of IsoFraPy"
   ],
   "id": "a1f33665-ea6a-4487-8578-d5e68450bec0"
  },
  {
   "cell_type": "markdown",
   "metadata": {},
   "source": [],
   "id": "024ccccb-3b77-459d-a92e-ae482e00353e"
  },
  {
   "cell_type": "markdown",
   "metadata": {},
   "source": [
    "## 基本の式"
   ],
   "id": "3e91430d-f478-4780-8d4a-85b8c368edfd"
  },
  {
   "cell_type": "markdown",
   "metadata": {},
   "source": [
    "### 飽和水蒸気圧\n",
    "\n",
    "飽和水蒸気圧( $e_s$ )は、Sonntag (1990) の式を用いて求められる。\n",
    "\n",
    "$$\n",
    "    e_s \\ \\text{ [hPa]}= exp \\big( {\\frac{a}{T} + b + cT + dT^2 + e \\mathrm{ln}(T) } \\big) / 100\n",
    "$$\n",
    "\n",
    "$T$は気温（K）、各係数はTable 2に示した。なお、このモデルでは、水と氷それぞれに対する飽和水蒸気圧を0 °Cで切り替えている。\n",
    "\n",
    "-   **Table 1**\n",
    "\n",
    "| Phase  |     | $a$        | $b$        | $c$          | $d$           | $e$         |\n",
    "|-------|--------|-----------|-----------|-------------|-------------|------------|\n",
    "| Liquid |     | -6096.9385 | 21.2409642 | -2.711193e-2 | 1.673952e-5   | 2.433502    |\n",
    "| Ice    |     | -6024.5282 | 29.32707   | 1.0613868e-2 | -1.3198825e-5 | -0.49382577 |"
   ],
   "id": "3dfd3d4a-ad90-4401-929e-4b51bad48791"
  },
  {
   "cell_type": "markdown",
   "metadata": {},
   "source": [
    "### 平衡分別係数\n",
    "\n",
    "水同位体の平衡分別係数($\\alpha_{eq}$)は、Majoube (1971a; 1971b) の経験式を用いて求められる。 $$\n",
    "    \\alpha_{eq,vl} = exp \\big(\\frac{a_1}{T^2} + \\frac{a_2}{T} + a_3) \n",
    "$$\n",
    "\n",
    "$$\n",
    "    \\alpha_{eq,vi} = exp \\big(\\frac{a_1}{T^{b}} + a_2) \n",
    "$$ $T$は気温（K）、各係数はTable 2に示した。なお、このモデルでは、分別係数が不連続になることを防ぐため、-20–0°Cの間で$\\alpha_{eq,vi}$と$\\alpha_{eq,vl}$を線形内挿して用いている。\n",
    "\n",
    "-   **Table 2**\n",
    "\n",
    "| Process                                   | $a_1$  | $a_2$     | $a_3$     | $b$ |\n",
    "|------------------------------------|---------|----------|------------|-------|\n",
    "| $\\mathsf{H_2^{18}O}$ (vapor $\\to$ liquid) | 1137   | -0.4156   | -0.002067 |     |\n",
    "| $\\mathsf{HDO}$ (vapor $\\to$ liquid)       | 24844  | -76.248   | 0.052612  |     |\n",
    "| $\\mathsf{H_2^{18}O}$ (vapor $\\to$ ice)    | 11.839 | -0.028224 |           | 1   |\n",
    "| $\\mathsf{HDO}$ (vapor $\\to$ ice)          | 16289  | -0.0945   |           | 2   |"
   ],
   "id": "3b7785cc-7068-42b4-9607-843503833145"
  },
  {
   "cell_type": "markdown",
   "metadata": {},
   "source": [
    "### 海面からの蒸発時に生じる同位体分別"
   ],
   "id": "4bc6fee2-3e57-4ef2-bc8f-ac9ef8995d93"
  },
  {
   "cell_type": "markdown",
   "metadata": {},
   "source": [
    "海面から蒸発が生じる際の同位体分別は、Merlivat and Jouzel (1979)による定式化を利用する。 $$\n",
    "    R_E = \\alpha_{kin,evap} \\frac{R_{sea} / \\alpha_{eq} - h R_a}{1 - h}\n",
    "$$ ここで、$R_E$, $R_{sea}$,$R_a$はそれぞれ海面から蒸発した水の同位体比、海水の同位体比（典型的には$R_{sea}=1$）、海洋上表面の同位体比を表す。 また、$h$は実効相対湿度（海面水温を基準とした相対湿度）である。 $$\n",
    "    h = h_a \\frac{w_{sat,a}}{w_{sat,sea}}\n",
    "$$ $h_a, w_{sat,a}, w_{sat,sea}$はそれぞれ、海洋上表面の相対湿度、海洋上表面の飽和水蒸気量、海面水温を基準とした飽和水蒸気量である。 動的分別係数($\\alpha_{kin,evap}$)は、"
   ],
   "id": "9713b488-9769-4440-8392-405178229b8a"
  },
  {
   "cell_type": "markdown",
   "metadata": {},
   "source": [
    "$$\n",
    "    \\alpha_{kin,evap} = \n",
    "        \\begin{cases} \n",
    "            1 - a \\quad& (u \\lt 7 \\ \\text{[m/s]}) \\\\\n",
    "            1 - b u + c \\quad& (u \\ge 7 \\ \\text{[m/s]})\n",
    "        \\end{cases}\n",
    "$$"
   ],
   "id": "96d0f900-bcf4-4ed9-b47c-17810f566d83"
  },
  {
   "cell_type": "markdown",
   "metadata": {},
   "source": [
    "ここで、$u$ は海洋表面での風速、各係数はTable 3に示した。なお、このモデルでは、$u<7$と仮定して得られた$\\alpha_{kin,evap}$を用いている。\n",
    "\n",
    "-   **Table 3**: 各係数はMerilivat (1978) に基づく\n",
    "\n",
    "| Process              | $a$     | $b$       | $c$       |\n",
    "|----------------------|---------|-----------|-----------|\n",
    "| $\\mathsf{H_2^{18}O}$ | 0.006   | 0.000285  | 0.00082   |\n",
    "| $\\mathsf{HDO}$       | 0.00528 | 0.0002508 | 0.0007216 |"
   ],
   "id": "1f3231b3-2092-4a8a-94ff-0a725d2e2805"
  },
  {
   "cell_type": "markdown",
   "metadata": {},
   "source": [
    "### 低温での過飽和時に生じる同位体分別\n",
    "\n",
    "-20 °C以下で水蒸気から氷晶が形成する際の同位体分別は、Jouzel and Merlivat (1984)に倣う。 $$\n",
    "    \\alpha_{eff} = \\alpha_{kin,supersat} \\alpha_{eq}\n",
    "$$ ここで、$\\alpha_{eff}$は実効同位体分別係数である。動的分別係数($\\alpha_{kin,supersat}$)は、以下の通り。 $$\n",
    "    \\alpha_{kin,supersat} = \\frac{S}{\\alpha_{eq} (D / D') (S - 1) + 1}\n",
    "$$ ここで、$D,D'$はそれぞれ通常の水分子と同位体水分子の分子拡散係数(Table 3)である。$S$は氷に対する過飽和度で、 $$\n",
    "    S = \n",
    "        \\begin{cases}\n",
    "            1 \\quad& (T \\ge -20 \\ \\text{[°C]}) \\\\\n",
    "            1 - 0.003 T \\quad& (T \\lt -20 \\ \\text{[°C]})\n",
    "        \\end{cases}\n",
    "$$ と表される。$T$は気温（°C）である。なお、このモデルでは、分別係数が不連続になることを防ぐため、Ciais and Jouzel (1994)に従って-20–0°Cの間で分別係数をスムージング（線形内挿）して用いている。"
   ],
   "id": "9763d3ef-6690-4f94-8892-b85e97f6f8ed"
  }
 ],
 "nbformat": 4,
 "nbformat_minor": 5,
 "metadata": {}
}
